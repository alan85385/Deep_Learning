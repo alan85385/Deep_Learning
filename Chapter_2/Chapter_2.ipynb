{
 "cells": [
  {
   "cell_type": "markdown",
   "id": "96339a18",
   "metadata": {},
   "source": [
    "# AND Gate"
   ]
  },
  {
   "cell_type": "code",
   "execution_count": 1,
   "id": "d5a2682b",
   "metadata": {},
   "outputs": [
    {
     "name": "stdout",
     "output_type": "stream",
     "text": [
      "x1 = 0, x2 = 0, y =  0\n",
      "x1 = 0, x2 = 1, y =  0\n",
      "x1 = 1, x2 = 0, y =  0\n",
      "x1 = 1, x2 = 1, y =  1\n"
     ]
    }
   ],
   "source": [
    "import numpy as np\n",
    "\n",
    "def AND(x1, x2):\n",
    "    \n",
    "    x = np.array([x1, x2])\n",
    "    w = np.array([0.5, 0.5])\n",
    "    b = -0.7\n",
    "    \n",
    "    tmp = np.sum(w*x) + b\n",
    "    \n",
    "    if tmp <= 0:\n",
    "        \n",
    "        return 0\n",
    "    \n",
    "    else:\n",
    "        \n",
    "        return 1\n",
    "\n",
    "print('x1 = 0, x2 = 0, y = ', AND(0,0))\n",
    "print('x1 = 0, x2 = 1, y = ', AND(0,1))\n",
    "print('x1 = 1, x2 = 0, y = ', AND(1,0))\n",
    "print('x1 = 1, x2 = 1, y = ', AND(1,1))"
   ]
  },
  {
   "cell_type": "markdown",
   "id": "ed0bd748",
   "metadata": {},
   "source": [
    "# OR Gate"
   ]
  },
  {
   "cell_type": "code",
   "execution_count": 2,
   "id": "175ef04c",
   "metadata": {},
   "outputs": [
    {
     "name": "stdout",
     "output_type": "stream",
     "text": [
      "x1 = 0, x2 = 0, y =  0\n",
      "x1 = 0, x2 = 1, y =  1\n",
      "x1 = 1, x2 = 0, y =  1\n",
      "x1 = 1, x2 = 1, y =  1\n"
     ]
    }
   ],
   "source": [
    "def OR(x1, x2):\n",
    "    \n",
    "    x = np.array([x1, x2])\n",
    "    w = np.array([0.5, 0.5])\n",
    "    b = -0.4\n",
    "    \n",
    "    tmp = np.sum(w*x) + b\n",
    "    \n",
    "    if tmp <= 0:\n",
    "        \n",
    "        return 0\n",
    "    \n",
    "    else:\n",
    "        \n",
    "        return 1\n",
    "\n",
    "print('x1 = 0, x2 = 0, y = ', OR(0,0))\n",
    "print('x1 = 0, x2 = 1, y = ', OR(0,1))\n",
    "print('x1 = 1, x2 = 0, y = ', OR(1,0))\n",
    "print('x1 = 1, x2 = 1, y = ', OR(1,1))"
   ]
  },
  {
   "cell_type": "markdown",
   "id": "46b4151d",
   "metadata": {},
   "source": [
    "# NAND"
   ]
  },
  {
   "cell_type": "code",
   "execution_count": 3,
   "id": "eee1f9da",
   "metadata": {},
   "outputs": [
    {
     "name": "stdout",
     "output_type": "stream",
     "text": [
      "x1 = 0, x2 = 0, y =  1\n",
      "x1 = 0, x2 = 1, y =  1\n",
      "x1 = 1, x2 = 0, y =  1\n",
      "x1 = 1, x2 = 1, y =  0\n"
     ]
    }
   ],
   "source": [
    "def NAND(x1, x2):\n",
    "    \n",
    "    x = np.array([x1, x2])\n",
    "    w = np.array([0.5, 0.5])\n",
    "    b = -0.7\n",
    "    \n",
    "    tmp = np.sum(w*x) + b\n",
    "    \n",
    "    if tmp <= 0:\n",
    "        \n",
    "        return 1\n",
    "    \n",
    "    else:\n",
    "        \n",
    "        return 0\n",
    "\n",
    "print('x1 = 0, x2 = 0, y = ', NAND(0,0))\n",
    "print('x1 = 0, x2 = 1, y = ', NAND(0,1))\n",
    "print('x1 = 1, x2 = 0, y = ', NAND(1,0))\n",
    "print('x1 = 1, x2 = 1, y = ', NAND(1,1))"
   ]
  },
  {
   "cell_type": "markdown",
   "id": "d4b4e227",
   "metadata": {},
   "source": [
    "# XOR"
   ]
  },
  {
   "cell_type": "code",
   "execution_count": 4,
   "id": "5b56b889",
   "metadata": {},
   "outputs": [
    {
     "name": "stdout",
     "output_type": "stream",
     "text": [
      "x1 = 0, x2 = 0, y =  0\n",
      "x1 = 0, x2 = 1, y =  1\n",
      "x1 = 1, x2 = 0, y =  1\n",
      "x1 = 1, x2 = 1, y =  0\n"
     ]
    }
   ],
   "source": [
    "def XOR(x1, x2):\n",
    "    \n",
    "    s1 = NAND(x1, x2)\n",
    "    s2 = OR(x1, x2)\n",
    "    \n",
    "    y = AND(s1, s2)\n",
    "    \n",
    "    return y\n",
    "\n",
    "print('x1 = 0, x2 = 0, y = ', XOR(0,0))\n",
    "print('x1 = 0, x2 = 1, y = ', XOR(0,1))\n",
    "print('x1 = 1, x2 = 0, y = ', XOR(1,0))\n",
    "print('x1 = 1, x2 = 1, y = ', XOR(1,1))"
   ]
  }
 ],
 "metadata": {
  "kernelspec": {
   "display_name": "Python 3",
   "language": "python",
   "name": "python3"
  },
  "language_info": {
   "codemirror_mode": {
    "name": "ipython",
    "version": 3
   },
   "file_extension": ".py",
   "mimetype": "text/x-python",
   "name": "python",
   "nbconvert_exporter": "python",
   "pygments_lexer": "ipython3",
   "version": "3.8.8"
  }
 },
 "nbformat": 4,
 "nbformat_minor": 5
}
